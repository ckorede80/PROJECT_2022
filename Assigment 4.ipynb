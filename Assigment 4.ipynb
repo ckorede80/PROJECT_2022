{
 "cells": [
  {
   "cell_type": "code",
   "execution_count": null,
   "id": "e697ab2b",
   "metadata": {},
   "outputs": [],
   "source": [
    "#Chef's Kitchen is one of the most popular restaurants in the city of San Diego\n",
    "#and acts as a one-stop destination for food lovers.\n",
    "#The polite and efficient service provided by the restaurant staff often gets them tips from the customer. \n",
    "#As a Data Analyst for the restaurant,\n",
    "#you have been asked to analyze the data provided to identify the patterns and trends in the revenue \n",
    "#and tips received from customers across different demographies \n",
    "#come up with informative visualizations to convey the insights obtained from the analysis."
   ]
  },
  {
   "cell_type": "code",
   "execution_count": 3,
   "id": "86c5a2a5",
   "metadata": {},
   "outputs": [
    {
     "data": {
      "text/html": [
       "<div>\n",
       "<style scoped>\n",
       "    .dataframe tbody tr th:only-of-type {\n",
       "        vertical-align: middle;\n",
       "    }\n",
       "\n",
       "    .dataframe tbody tr th {\n",
       "        vertical-align: top;\n",
       "    }\n",
       "\n",
       "    .dataframe thead th {\n",
       "        text-align: right;\n",
       "    }\n",
       "</style>\n",
       "<table border=\"1\" class=\"dataframe\">\n",
       "  <thead>\n",
       "    <tr style=\"text-align: right;\">\n",
       "      <th></th>\n",
       "      <th>order_id</th>\n",
       "      <th>day</th>\n",
       "      <th>time</th>\n",
       "      <th>size</th>\n",
       "      <th>smoker</th>\n",
       "      <th>sex</th>\n",
       "      <th>total_bill</th>\n",
       "      <th>tip</th>\n",
       "    </tr>\n",
       "  </thead>\n",
       "  <tbody>\n",
       "    <tr>\n",
       "      <th>0</th>\n",
       "      <td>1</td>\n",
       "      <td>Sun</td>\n",
       "      <td>Dinner</td>\n",
       "      <td>2</td>\n",
       "      <td>No</td>\n",
       "      <td>Female</td>\n",
       "      <td>16.99</td>\n",
       "      <td>1.01</td>\n",
       "    </tr>\n",
       "    <tr>\n",
       "      <th>1</th>\n",
       "      <td>2</td>\n",
       "      <td>Sun</td>\n",
       "      <td>Dinner</td>\n",
       "      <td>3</td>\n",
       "      <td>No</td>\n",
       "      <td>Male</td>\n",
       "      <td>10.34</td>\n",
       "      <td>1.66</td>\n",
       "    </tr>\n",
       "    <tr>\n",
       "      <th>2</th>\n",
       "      <td>3</td>\n",
       "      <td>Sun</td>\n",
       "      <td>Dinner</td>\n",
       "      <td>3</td>\n",
       "      <td>No</td>\n",
       "      <td>Male</td>\n",
       "      <td>21.01</td>\n",
       "      <td>3.50</td>\n",
       "    </tr>\n",
       "    <tr>\n",
       "      <th>3</th>\n",
       "      <td>4</td>\n",
       "      <td>Sun</td>\n",
       "      <td>Dinner</td>\n",
       "      <td>2</td>\n",
       "      <td>No</td>\n",
       "      <td>Male</td>\n",
       "      <td>23.68</td>\n",
       "      <td>3.31</td>\n",
       "    </tr>\n",
       "    <tr>\n",
       "      <th>4</th>\n",
       "      <td>5</td>\n",
       "      <td>Sun</td>\n",
       "      <td>Dinner</td>\n",
       "      <td>4</td>\n",
       "      <td>No</td>\n",
       "      <td>Female</td>\n",
       "      <td>24.59</td>\n",
       "      <td>3.61</td>\n",
       "    </tr>\n",
       "    <tr>\n",
       "      <th>...</th>\n",
       "      <td>...</td>\n",
       "      <td>...</td>\n",
       "      <td>...</td>\n",
       "      <td>...</td>\n",
       "      <td>...</td>\n",
       "      <td>...</td>\n",
       "      <td>...</td>\n",
       "      <td>...</td>\n",
       "    </tr>\n",
       "    <tr>\n",
       "      <th>239</th>\n",
       "      <td>240</td>\n",
       "      <td>Sat</td>\n",
       "      <td>Dinner</td>\n",
       "      <td>3</td>\n",
       "      <td>No</td>\n",
       "      <td>Male</td>\n",
       "      <td>29.03</td>\n",
       "      <td>5.92</td>\n",
       "    </tr>\n",
       "    <tr>\n",
       "      <th>240</th>\n",
       "      <td>241</td>\n",
       "      <td>Sat</td>\n",
       "      <td>Dinner</td>\n",
       "      <td>2</td>\n",
       "      <td>Yes</td>\n",
       "      <td>Female</td>\n",
       "      <td>27.18</td>\n",
       "      <td>2.00</td>\n",
       "    </tr>\n",
       "    <tr>\n",
       "      <th>241</th>\n",
       "      <td>242</td>\n",
       "      <td>Sat</td>\n",
       "      <td>Dinner</td>\n",
       "      <td>2</td>\n",
       "      <td>Yes</td>\n",
       "      <td>Male</td>\n",
       "      <td>22.67</td>\n",
       "      <td>2.00</td>\n",
       "    </tr>\n",
       "    <tr>\n",
       "      <th>242</th>\n",
       "      <td>243</td>\n",
       "      <td>Sat</td>\n",
       "      <td>Dinner</td>\n",
       "      <td>2</td>\n",
       "      <td>No</td>\n",
       "      <td>Male</td>\n",
       "      <td>17.82</td>\n",
       "      <td>1.75</td>\n",
       "    </tr>\n",
       "    <tr>\n",
       "      <th>243</th>\n",
       "      <td>244</td>\n",
       "      <td>Thur</td>\n",
       "      <td>Dinner</td>\n",
       "      <td>2</td>\n",
       "      <td>No</td>\n",
       "      <td>Female</td>\n",
       "      <td>18.78</td>\n",
       "      <td>3.00</td>\n",
       "    </tr>\n",
       "  </tbody>\n",
       "</table>\n",
       "<p>244 rows × 8 columns</p>\n",
       "</div>"
      ],
      "text/plain": [
       "     order_id   day    time  size smoker     sex  total_bill   tip\n",
       "0           1   Sun  Dinner     2     No  Female       16.99  1.01\n",
       "1           2   Sun  Dinner     3     No    Male       10.34  1.66\n",
       "2           3   Sun  Dinner     3     No    Male       21.01  3.50\n",
       "3           4   Sun  Dinner     2     No    Male       23.68  3.31\n",
       "4           5   Sun  Dinner     4     No  Female       24.59  3.61\n",
       "..        ...   ...     ...   ...    ...     ...         ...   ...\n",
       "239       240   Sat  Dinner     3     No    Male       29.03  5.92\n",
       "240       241   Sat  Dinner     2    Yes  Female       27.18  2.00\n",
       "241       242   Sat  Dinner     2    Yes    Male       22.67  2.00\n",
       "242       243   Sat  Dinner     2     No    Male       17.82  1.75\n",
       "243       244  Thur  Dinner     2     No  Female       18.78  3.00\n",
       "\n",
       "[244 rows x 8 columns]"
      ]
     },
     "execution_count": 3,
     "metadata": {},
     "output_type": "execute_result"
    }
   ],
   "source": [
    "#Import all the necessary packages and load the dataset.\n",
    "\n",
    "import numpy as np\n",
    "import pandas as pd\n",
    "\n",
    "pd.set_option(\"display.max_columns\", None)\n",
    "pd.set_option(\"display.max_row\", 200)\n",
    "\n",
    "#Loading tip dataset\n",
    "\n",
    "tip_df = pd.read_csv(r\"C:\\Users\\14093\\Downloads\\tips.csv\")\n",
    "\n",
    "tip_df"
   ]
  },
  {
   "cell_type": "code",
   "execution_count": 4,
   "id": "4ec1969a",
   "metadata": {},
   "outputs": [
    {
     "data": {
      "text/plain": [
       "(244, 8)"
      ]
     },
     "execution_count": 4,
     "metadata": {},
     "output_type": "execute_result"
    }
   ],
   "source": [
    "tip_df.shape"
   ]
  },
  {
   "cell_type": "code",
   "execution_count": 5,
   "id": "14693057",
   "metadata": {},
   "outputs": [
    {
     "data": {
      "text/plain": [
       "0"
      ]
     },
     "execution_count": 5,
     "metadata": {},
     "output_type": "execute_result"
    }
   ],
   "source": [
    "# checking for duplicate\n",
    "\n",
    "tip_df.duplicated().sum()"
   ]
  },
  {
   "cell_type": "code",
   "execution_count": 9,
   "id": "6608f6e1",
   "metadata": {},
   "outputs": [
    {
     "data": {
      "text/plain": [
       "order_id      0\n",
       "day           0\n",
       "time          0\n",
       "size          0\n",
       "smoker        0\n",
       "sex           0\n",
       "total_bill    0\n",
       "tip           0\n",
       "dtype: int64"
      ]
     },
     "execution_count": 9,
     "metadata": {},
     "output_type": "execute_result"
    }
   ],
   "source": [
    "#checking for missing value\n",
    "\n",
    "tip_df.isnull().sum()"
   ]
  },
  {
   "cell_type": "code",
   "execution_count": 10,
   "id": "88f00885",
   "metadata": {},
   "outputs": [
    {
     "data": {
      "text/html": [
       "<div>\n",
       "<style scoped>\n",
       "    .dataframe tbody tr th:only-of-type {\n",
       "        vertical-align: middle;\n",
       "    }\n",
       "\n",
       "    .dataframe tbody tr th {\n",
       "        vertical-align: top;\n",
       "    }\n",
       "\n",
       "    .dataframe thead th {\n",
       "        text-align: right;\n",
       "    }\n",
       "</style>\n",
       "<table border=\"1\" class=\"dataframe\">\n",
       "  <thead>\n",
       "    <tr style=\"text-align: right;\">\n",
       "      <th></th>\n",
       "      <th>count</th>\n",
       "      <th>unique</th>\n",
       "      <th>top</th>\n",
       "      <th>freq</th>\n",
       "      <th>mean</th>\n",
       "      <th>std</th>\n",
       "      <th>min</th>\n",
       "      <th>25%</th>\n",
       "      <th>50%</th>\n",
       "      <th>75%</th>\n",
       "      <th>max</th>\n",
       "    </tr>\n",
       "  </thead>\n",
       "  <tbody>\n",
       "    <tr>\n",
       "      <th>order_id</th>\n",
       "      <td>244.0</td>\n",
       "      <td>NaN</td>\n",
       "      <td>NaN</td>\n",
       "      <td>NaN</td>\n",
       "      <td>122.5</td>\n",
       "      <td>70.580923</td>\n",
       "      <td>1.0</td>\n",
       "      <td>61.75</td>\n",
       "      <td>122.5</td>\n",
       "      <td>183.25</td>\n",
       "      <td>244.0</td>\n",
       "    </tr>\n",
       "    <tr>\n",
       "      <th>day</th>\n",
       "      <td>244</td>\n",
       "      <td>4</td>\n",
       "      <td>Sat</td>\n",
       "      <td>87</td>\n",
       "      <td>NaN</td>\n",
       "      <td>NaN</td>\n",
       "      <td>NaN</td>\n",
       "      <td>NaN</td>\n",
       "      <td>NaN</td>\n",
       "      <td>NaN</td>\n",
       "      <td>NaN</td>\n",
       "    </tr>\n",
       "    <tr>\n",
       "      <th>time</th>\n",
       "      <td>244</td>\n",
       "      <td>2</td>\n",
       "      <td>Dinner</td>\n",
       "      <td>176</td>\n",
       "      <td>NaN</td>\n",
       "      <td>NaN</td>\n",
       "      <td>NaN</td>\n",
       "      <td>NaN</td>\n",
       "      <td>NaN</td>\n",
       "      <td>NaN</td>\n",
       "      <td>NaN</td>\n",
       "    </tr>\n",
       "    <tr>\n",
       "      <th>size</th>\n",
       "      <td>244.0</td>\n",
       "      <td>NaN</td>\n",
       "      <td>NaN</td>\n",
       "      <td>NaN</td>\n",
       "      <td>2.569672</td>\n",
       "      <td>0.9511</td>\n",
       "      <td>1.0</td>\n",
       "      <td>2.0</td>\n",
       "      <td>2.0</td>\n",
       "      <td>3.0</td>\n",
       "      <td>6.0</td>\n",
       "    </tr>\n",
       "    <tr>\n",
       "      <th>smoker</th>\n",
       "      <td>244</td>\n",
       "      <td>2</td>\n",
       "      <td>No</td>\n",
       "      <td>151</td>\n",
       "      <td>NaN</td>\n",
       "      <td>NaN</td>\n",
       "      <td>NaN</td>\n",
       "      <td>NaN</td>\n",
       "      <td>NaN</td>\n",
       "      <td>NaN</td>\n",
       "      <td>NaN</td>\n",
       "    </tr>\n",
       "    <tr>\n",
       "      <th>sex</th>\n",
       "      <td>244</td>\n",
       "      <td>2</td>\n",
       "      <td>Male</td>\n",
       "      <td>157</td>\n",
       "      <td>NaN</td>\n",
       "      <td>NaN</td>\n",
       "      <td>NaN</td>\n",
       "      <td>NaN</td>\n",
       "      <td>NaN</td>\n",
       "      <td>NaN</td>\n",
       "      <td>NaN</td>\n",
       "    </tr>\n",
       "    <tr>\n",
       "      <th>total_bill</th>\n",
       "      <td>244.0</td>\n",
       "      <td>NaN</td>\n",
       "      <td>NaN</td>\n",
       "      <td>NaN</td>\n",
       "      <td>19.785943</td>\n",
       "      <td>8.902412</td>\n",
       "      <td>3.07</td>\n",
       "      <td>13.3475</td>\n",
       "      <td>17.795</td>\n",
       "      <td>24.1275</td>\n",
       "      <td>50.81</td>\n",
       "    </tr>\n",
       "    <tr>\n",
       "      <th>tip</th>\n",
       "      <td>244.0</td>\n",
       "      <td>NaN</td>\n",
       "      <td>NaN</td>\n",
       "      <td>NaN</td>\n",
       "      <td>2.998279</td>\n",
       "      <td>1.383638</td>\n",
       "      <td>1.0</td>\n",
       "      <td>2.0</td>\n",
       "      <td>2.9</td>\n",
       "      <td>3.5625</td>\n",
       "      <td>10.0</td>\n",
       "    </tr>\n",
       "  </tbody>\n",
       "</table>\n",
       "</div>"
      ],
      "text/plain": [
       "            count unique     top freq       mean        std   min      25%  \\\n",
       "order_id    244.0    NaN     NaN  NaN      122.5  70.580923   1.0    61.75   \n",
       "day           244      4     Sat   87        NaN        NaN   NaN      NaN   \n",
       "time          244      2  Dinner  176        NaN        NaN   NaN      NaN   \n",
       "size        244.0    NaN     NaN  NaN   2.569672     0.9511   1.0      2.0   \n",
       "smoker        244      2      No  151        NaN        NaN   NaN      NaN   \n",
       "sex           244      2    Male  157        NaN        NaN   NaN      NaN   \n",
       "total_bill  244.0    NaN     NaN  NaN  19.785943   8.902412  3.07  13.3475   \n",
       "tip         244.0    NaN     NaN  NaN   2.998279   1.383638   1.0      2.0   \n",
       "\n",
       "               50%      75%    max  \n",
       "order_id     122.5   183.25  244.0  \n",
       "day            NaN      NaN    NaN  \n",
       "time           NaN      NaN    NaN  \n",
       "size           2.0      3.0    6.0  \n",
       "smoker         NaN      NaN    NaN  \n",
       "sex            NaN      NaN    NaN  \n",
       "total_bill  17.795  24.1275  50.81  \n",
       "tip            2.9   3.5625   10.0  "
      ]
     },
     "execution_count": 10,
     "metadata": {},
     "output_type": "execute_result"
    }
   ],
   "source": [
    "#Statistics Description of tip Dataset\n",
    "\n",
    "tip_df.describe(include = \"all\").T\n"
   ]
  },
  {
   "cell_type": "code",
   "execution_count": null,
   "id": "9e78f0b7",
   "metadata": {},
   "outputs": [],
   "source": [
    "# Summary tip_df Dataset\n",
    "\n",
    "#- The average tip give $2.998, and the highest tip given is $10 we can suggest is normally distributed median is approx. mean\n",
    "#- The average total_bill is $19.785943 and the highest total_bill is $50.81\n",
    "#- The most occur time Chef's Kitchen restaurants food lover stop by is Dinner.\n",
    "#- Male food lover stop by most at Chef's Kitchen restaurants."
   ]
  },
  {
   "cell_type": "code",
   "execution_count": 10,
   "id": "ad0cf6f1",
   "metadata": {},
   "outputs": [],
   "source": [
    "# Formulating Question identify the patterns and trends in the revenue and tip.\n",
    "\n",
    "# What days do chef's kitchen restaurant food generate highest and lowest revenue & tip?\n",
    "# What time do food lover stop by chef's kitchen restaurant?\n",
    "# Who sex among the food lover give the highest tip & total_bill?\n",
    "# Does tip given by food lover have effect on revenue generated?\n",
    "\n",
    "import pandas as pd\n",
    "\n",
    "import matplotlib.pyplot as plt\n",
    "\n",
    "import seaborn as sns\n",
    "\n",
    "\n",
    "\n"
   ]
  },
  {
   "cell_type": "code",
   "execution_count": 13,
   "id": "e5b95e80",
   "metadata": {},
   "outputs": [
    {
     "data": {
      "text/plain": [
       "Text(0.5, 1.0, 'Histogram of Revenue')"
      ]
     },
     "execution_count": 13,
     "metadata": {},
     "output_type": "execute_result"
    },
    {
     "data": {
      "image/png": "[encoded data removed]",
      "text/plain": [
       "<Figure size 432x288 with 1 Axes>"
      ]
     },
     "metadata": {
      "needs_background": "light"
     },
     "output_type": "display_data"
    }
   ],
   "source": [
    "#What days do chef's kitchen restaurant food generate highest and lowest revenue & tip?\n",
    "\n",
    "sns.histplot(data = tip_df, x = \"day\")\n",
    "\n",
    "plt.xlabel (\"Total Bill\")\n",
    "plt.ylabel(\"frequency\")\n",
    "plt.title(\"Histogram of Revenue\")\n"
   ]
  },
  {
   "cell_type": "code",
   "execution_count": 7,
   "id": "51011bf8",
   "metadata": {},
   "outputs": [
    {
     "data": {
      "text/plain": [
       "Text(0.5, 1.0, 'Histogram of Visit Time')"
      ]
     },
     "execution_count": 7,
     "metadata": {},
     "output_type": "execute_result"
    },
    {
     "data": {
      "image/png": "[encoded data removed]",
      "text/plain": [
       "<Figure size 432x288 with 1 Axes>"
      ]
     },
     "metadata": {
      "needs_background": "light"
     },
     "output_type": "display_data"
    }
   ],
   "source": [
    "#finding out what time do food lover stop by chef's kitchen restaurant\n",
    "\n",
    "sns.histplot(data = tip_df, x = \"time\")\n",
    "plt.xlabel (\"visit time\")\n",
    "plt.ylabel(\"frequency\")\n",
    "plt.title(\"Histogram of Visit Time\")\n",
    "\n"
   ]
  },
  {
   "cell_type": "code",
   "execution_count": 16,
   "id": "02105bff",
   "metadata": {},
   "outputs": [
    {
     "data": {
      "text/plain": [
       "sex\n",
       "Female    1570.95\n",
       "Male      3256.82\n",
       "Name: total_bill, dtype: float64"
      ]
     },
     "execution_count": 16,
     "metadata": {},
     "output_type": "execute_result"
    }
   ],
   "source": [
    "# Who sex among the food lover give the highest tip & total_bill?\n",
    "\n",
    "df = tip_df.groupby(\"sex\")[\"total_bill\"].sum()\n",
    "\n",
    "df\n",
    "\n",
    "\n",
    "\n",
    "\n",
    "\n"
   ]
  },
  {
   "cell_type": "code",
   "execution_count": 9,
   "id": "a57859fc",
   "metadata": {},
   "outputs": [
    {
     "data": {
      "image/png": "[encoded data removed]",
      "text/plain": [
       "<Figure size 432x288 with 1 Axes>"
      ]
     },
     "metadata": {
      "needs_background": "light"
     },
     "output_type": "display_data"
    }
   ],
   "source": [
    "# Does tip given by food lover have effect on revenue generated?\n",
    "\n",
    "import pandas as pd\n",
    "\n",
    "import matplotlib.pyplot as plt\n",
    "\n",
    "import seaborn as sns\n",
    "\n",
    "sns.scatterplot(data = tip_df, x = \"tip\", y = \"total_bill\");\n",
    "\n",
    "plt.title(\"Revenue relationship with tip\")\n",
    "\n",
    "plt.show();\n",
    "\n",
    "\n",
    "\n",
    "\n",
    "\n"
   ]
  },
  {
   "cell_type": "code",
   "execution_count": null,
   "id": "7794beb5",
   "metadata": {},
   "outputs": [],
   "source": [
    "#RECOMMENDATION\n",
    "\n",
    "# There's a low revenue income on friday, male sex stop by chef's kitchen restaurant most and contribute the highest \n",
    "# in term of total_bill."
   ]
  },
  {
   "cell_type": "code",
   "execution_count": null,
   "id": "e158fa0c",
   "metadata": {},
   "outputs": [],
   "source": []
  }
 ],
 "metadata": {
  "kernelspec": {
   "display_name": "Python 3 (ipykernel)",
   "language": "python",
   "name": "python3"
  },
  "language_info": {
   "codemirror_mode": {
    "name": "ipython",
    "version": 3
   },
   "file_extension": ".py",
   "mimetype": "text/x-python",
   "name": "python",
   "nbconvert_exporter": "python",
   "pygments_lexer": "ipython3",
   "version": "3.9.12"
  }
 },
 "nbformat": 4,
 "nbformat_minor": 5
}
